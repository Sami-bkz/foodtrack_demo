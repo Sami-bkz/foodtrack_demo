{
  "cells": [
    {
      "cell_type": "code",
      "execution_count": 470,
      "metadata": {
        "id": "5CA_C2ptMlqu"
      },
      "outputs": [],
      "source": [
        "import requests\n",
        "import numpy as np \n",
        "import pandas as pd\n",
        "import psycopg2\n",
        "import os\n",
        "from dotenv import load_dotenv"
      ]
    },
    {
      "cell_type": "markdown",
      "metadata": {},
      "source": [
        "<div class=\"alert alert-warning\" align='center'>\n",
        "DÉMONSTRATION DE L'APPLICATION FOODTRACK\n",
        "</div>"
      ]
    },
    {
      "cell_type": "code",
      "execution_count": 1,
      "metadata": {},
      "outputs": [],
      "source": [
        "# Lecture du code-barre identifiant un produit alimentaire (issu du scan de l'utilisateur)\n",
        "#\n",
        "# Des exemples sont fournis en commentaires\n",
        "\n",
        "bar_code = 3608580823452 # 3116740033875 0037600106009 8000500310427 8076809529419 3608580823452 737628064502 3228021170060 8000430138719 3523230029681"
      ]
    },
    {
      "cell_type": "code",
      "execution_count": 472,
      "metadata": {},
      "outputs": [
        {
          "name": "stdout",
          "output_type": "stream",
          "text": [
            "<Response [200]>\n"
          ]
        }
      ],
      "source": [
        "# Interrogation de l'API 'OpenfoodFacts'\n",
        "url = f\"https://world.openfoodfacts.org/api/v2/product/{bar_code}.json\" \n",
        "\n",
        "answer = requests.get(url)\n",
        "print(answer)                # si <Response [200]> = transaction ok\n",
        "\n",
        "product = answer.json()      # Le résultat de cette requête est un fichier JSON contenant de nombreuses informations sur le produit considéré.\n",
        "product_info = product['product']"
      ]
    },
    {
      "cell_type": "markdown",
      "metadata": {},
      "source": [
        "<div class=\"alert alert-success\" align='center'>\n",
        "-> Si la réponse est 200, le lien avec l'API est OK.\n",
        "</div>"
      ]
    },
    {
      "cell_type": "code",
      "execution_count": 473,
      "metadata": {},
      "outputs": [
        {
          "name": "stdout",
          "output_type": "stream",
          "text": [
            "Produit: Confiture Abricot INTENSE\n"
          ]
        }
      ],
      "source": [
        "# Affichage du nom du produit\n",
        "try:\n",
        "    print(f\"Produit: {product_info['product_name']}\")\n",
        "except:\n",
        "    None"
      ]
    },
    {
      "cell_type": "code",
      "execution_count": 474,
      "metadata": {},
      "outputs": [
        {
          "name": "stdout",
          "output_type": "stream",
          "text": [
            "Origine: \n"
          ]
        }
      ],
      "source": [
        "# Affichage de l'origine du produit : elle n'est pas toujours spécifiée !\n",
        "print(f\"Origine: {product_info['origins']}\")"
      ]
    },
    {
      "cell_type": "markdown",
      "metadata": {},
      "source": [
        "<div class=\"alert alert-danger\" align='center'>\n",
        "-> Parfois il n'y a pas d'origine car il y a plusieurs sites de fabrication pour un même produit. <br> Ex: Il y a aujourd'hui 868 usines de Coca-Cola en dehors des Etats-Unis.\n",
        "</div>"
      ]
    },
    {
      "cell_type": "code",
      "execution_count": 475,
      "metadata": {},
      "outputs": [
        {
          "name": "stdout",
          "output_type": "stream",
          "text": [
            "score transport: 0\n"
          ]
        }
      ],
      "source": [
        "# Comme indiqué dans le rapport : Open Food Facts propose déjà un calcul de l'éco-score (en particulier de l'impact environnemental du transport)\n",
        "# Toutefois, nous avons remarqué que ce calcul était souvent incorrect (dû à un manque d'information sur la provenance du produit).\n",
        "# Par ailleurs, le résultat est affiché sous forme de score sans donner plus d'informations à l'utilisateur.\n",
        "score_transport_fr = product_info['ecoscore_data']['adjustments']['origins_of_ingredients']['transportation_scores']['fr']\n",
        "print(f\"score transport: {score_transport_fr}\")"
      ]
    },
    {
      "cell_type": "markdown",
      "metadata": {},
      "source": [
        "<div class=\"alert alert-warning\" align='center'>\n",
        "-> A nuancer. <br> Comment est-ce calculé? <br> Comment est-ce calculé quand l'origine est inconnue?\n",
        "</div>"
      ]
    },
    {
      "cell_type": "markdown",
      "metadata": {},
      "source": [
        "<div class=\"alert alert-success\" align='center'>\n",
        "Quand elle existe, l'origine permet de faire le lien avec les autres bases de données pour le calcul de l'impact environnemental.\n",
        "</div>"
      ]
    },
    {
      "cell_type": "code",
      "execution_count": 476,
      "metadata": {},
      "outputs": [
        {
          "name": "stdout",
          "output_type": "stream",
          "text": [
            "composition: ['apricot', 'sugar', 'concentrated-lemon-juice', 'fruit-pectin']\n"
          ]
        }
      ],
      "source": [
        "# Affichage de la liste des ingrédients\n",
        "product_compounds = [compound['id'][3:] for compound in product_info['ingredients']]\n",
        "print(f\"composition: {product_compounds}\")"
      ]
    },
    {
      "cell_type": "code",
      "execution_count": 477,
      "metadata": {},
      "outputs": [
        {
          "name": "stdout",
          "output_type": "stream",
          "text": [
            "Le produit fait 335g.\n"
          ]
        }
      ],
      "source": [
        "# Affichage de la masse du produit (parfois c'est le volume qui est renvoyé, notamment lorsque le produit est un liquide)\n",
        "product_metric = int(product_info['product_quantity'])\n",
        "product_quantity_unit = product_info['product_quantity_unit']\n",
        "\n",
        "print(f\"Le produit fait {product_metric}{product_quantity_unit}.\")"
      ]
    },
    {
      "cell_type": "code",
      "execution_count": 478,
      "metadata": {
        "colab": {
          "base_uri": "https://localhost:8080/"
        },
        "id": "FgXThTJdNKyV",
        "outputId": "4554972e-a19f-42dd-f1c9-88e185b44caa"
      },
      "outputs": [
        {
          "name": "stdout",
          "output_type": "stream",
          "text": [
            "Composant 1: apricot\n",
            "Code CIQUAL: 13000\n",
            "Origine: Non spécifiée\n",
            "Part dans le produit: 62.5%\n",
            "*******************************\n",
            "\n",
            "Composant 2: sugar\n",
            "Code CIQUAL: 31016\n",
            "Origine: Non spécifiée\n",
            "Part dans le produit: 18.75%\n",
            "*******************************\n",
            "\n",
            "Composant 3: concentrated-lemon-juice\n",
            "Code CIQUAL: 2028\n",
            "Origine: Non spécifiée\n",
            "Part dans le produit: 9.375%\n",
            "*******************************\n",
            "\n",
            "Composant 4: fruit-pectin\n",
            "Code CIQUAL: -\n",
            "Origine: Non spécifiée\n",
            "Part dans le produit: 9.375%\n",
            "*******************************\n",
            "\n"
          ]
        }
      ],
      "source": [
        "# Affichage des détails par ingrédient (nom, code CIQUAL - s'il existe -, proportion dans le produit, origine - si elle existe -)\n",
        "# Rappel : le code CIQUAL permet de faire le lien avec la base de données AGRIBALYSE pour déterminer l'empreinte carbone de l'ingrédient\n",
        "\n",
        "product_compounds_info = []\n",
        "total_percent = 0\n",
        "ciqual_percent = 0\n",
        "ciqual_food_code_list = []\n",
        "ingredient_list = []\n",
        "\n",
        "for k in range(len(product_compounds)):\n",
        "  if 'ingredients' in product_info['ingredients'][k]:\n",
        "\n",
        "    composant = product_info['ingredients'][k]['id'][3:]\n",
        "    percent = product_info['ingredients'][k]['percent_estimate']\n",
        "\n",
        "    print(f\"Composant {k+1}: {composant}\")\n",
        "    print(f\"Part dans le produit: {percent}%\")\n",
        "    print(\"\\n\")\n",
        "\n",
        "\n",
        "    for j in range(len(product_info['ingredients'][k]['ingredients'])):\n",
        "      ingredient = product_info['ingredients'][k]['ingredients'][j]['id'][3:]\n",
        "      percent = product_info['ingredients'][k]['ingredients'][j]['percent_estimate']\n",
        "      total_percent += percent\n",
        "\n",
        "      if 'ciqual_food_code' in product_info['ingredients'][k]['ingredients'][j]:\n",
        "        ciqual_food_code = product_info['ingredients'][k]['ingredients'][j]['ciqual_food_code']\n",
        "        ciqual_food_code_list.append(ciqual_food_code)\n",
        "        ciqual_percent += percent\n",
        "      elif 'ciqual_proxy_food_code' in product_info['ingredients'][k]['ingredients'][j]:\n",
        "        ciqual_food_code = product_info['ingredients'][k]['ingredients'][j]['ciqual_proxy_food_code']\n",
        "        ciqual_food_code_list.append(ciqual_food_code)\n",
        "        ciqual_percent += percent\n",
        "      else:\n",
        "        ciqual_food_code = '-'\n",
        "\n",
        "      ingredient_list.append([ingredient, ciqual_food_code, percent])\n",
        "\n",
        "\n",
        "      if 'origins' in product_info['ingredients'][k]['ingredients'][j]:\n",
        "        origin = product_info['ingredients'][k]['ingredients'][j]['origins'][3:]\n",
        "      else: \n",
        "        origin = 'Non spécifiée'\n",
        "\n",
        "      \n",
        "      print(f\"\\tIngrédient {j+1}: {ingredient}\")\n",
        "      print(f\"\\tCode CIQUAL: {ciqual_food_code}\")\n",
        "      print(f\"\\tOrigine: {origin}\")\n",
        "      print(f\"\\tPart dans le produit: {percent}%\")\n",
        "      print(\"\\t***************\\n\")\n",
        "\n",
        "  else:\n",
        "    ingredient = product_info['ingredients'][k]['id'][3:]\n",
        "    percent = product_info['ingredients'][k]['percent_estimate']\n",
        "    total_percent += percent\n",
        "\n",
        "    if 'ciqual_food_code' in product_info['ingredients'][k]:\n",
        "      ciqual_food_code = product_info['ingredients'][k]['ciqual_food_code']\n",
        "      ciqual_food_code_list.append(ciqual_food_code)\n",
        "      ciqual_percent += percent\n",
        "    elif 'ciqual_proxy_food_code' in product_info['ingredients'][k]:\n",
        "      ciqual_food_code = product_info['ingredients'][k]['ciqual_proxy_food_code']\n",
        "      ciqual_food_code_list.append(ciqual_food_code)\n",
        "      ciqual_percent += percent\n",
        "    else: \n",
        "      ciqual_food_code = '-'\n",
        "\n",
        "    ingredient_list.append([ingredient, ciqual_food_code, percent])\n",
        "\n",
        "\n",
        "    if 'origins' in product_info['ingredients'][k]:\n",
        "      origin = product_info['ingredients'][k]['origins'][3:]\n",
        "    else: \n",
        "      origin = 'Non spécifiée'\n",
        "\n",
        "    \n",
        "    print(f\"Composant {k+1}: {ingredient}\")\n",
        "    print(f\"Code CIQUAL: {ciqual_food_code}\")\n",
        "    print(f\"Origine: {origin}\")\n",
        "    print(f\"Part dans le produit: {percent}%\")\n",
        "    print(\"*******************************\\n\")\n",
        "\n",
        "ciqual_food_code_list = np.unique(ciqual_food_code_list).tolist()\n",
        "ciqual_food_code_list_int = list(map(int, ciqual_food_code_list))"
      ]
    },
    {
      "cell_type": "code",
      "execution_count": 479,
      "metadata": {},
      "outputs": [
        {
          "name": "stdout",
          "output_type": "stream",
          "text": [
            "Vérif:\n",
            "La somme des parts des ingrédients fait bien 100%: True\n",
            "La somme des parts des ingrédients dont on connait le code CIQUAL est: 90.625%\n"
          ]
        }
      ],
      "source": [
        "# Des tests de vérification sur les données sont réalisés\n",
        "print(\"Vérif:\")\n",
        "print(f\"La somme des parts des ingrédients fait bien 100%: {99 <= int(total_percent) & int(total_percent) <= 101}\")\n",
        "print(f\"La somme des parts des ingrédients dont on connait le code CIQUAL est: {ciqual_percent}%\")"
      ]
    },
    {
      "cell_type": "markdown",
      "metadata": {},
      "source": [
        "<div class=\"alert alert-danger\" align='center'>\n",
        "Si la part des composants dont le code CIQUAL n'est pas supérieure à un certain seuil (85%), il est difficile de pouvoir noter le produit avec une grande fiabilité.\n",
        "</div>"
      ]
    },
    {
      "cell_type": "code",
      "execution_count": 480,
      "metadata": {},
      "outputs": [
        {
          "name": "stdout",
          "output_type": "stream",
          "text": [
            "Liste des codes CIQUAL renseignés présents dans le produit:\n",
            "[13000, 2028, 31016]\n"
          ]
        }
      ],
      "source": [
        "# Affichage de la liste des codes CIQUAL relatifs aux ingrédients présents dans le produit\n",
        "print(\"Liste des codes CIQUAL renseignés présents dans le produit:\")\n",
        "print(ciqual_food_code_list_int)"
      ]
    },
    {
      "cell_type": "markdown",
      "metadata": {},
      "source": [
        "<div class=\"alert alert-success\" align='center'>\n",
        "Cette liste permet de faire le lien avec les autres bases de données.\n",
        "</div>"
      ]
    },
    {
      "cell_type": "markdown",
      "metadata": {},
      "source": [
        "<div class=\"alert alert-success\" align='center'>\n",
        "\n",
        "I. Base de données Agribalyse\n",
        "</div>"
      ]
    },
    {
      "cell_type": "markdown",
      "metadata": {},
      "source": [
        "<div class=\"alert alert-danger\" align='center'>\n",
        "\n",
        "\n",
        "/!\\ CREER UN FICHIER `.env` QUI CONTIENT LES ELEMENTS POUR SE CONNECTER A LA BASE DE DONNEES /!\\\n",
        "</div>"
      ]
    },
    {
      "cell_type": "code",
      "execution_count": 481,
      "metadata": {},
      "outputs": [],
      "source": [
        "# Récupération des informations du fichier .env\n",
        "load_dotenv()\n",
        "\n",
        "DB_HOST = os.getenv(\"DB_HOST\") #localhost\n",
        "DB_NAME = os.getenv(\"DB_NAME\") #db-agribalyse\n",
        "DB_USER = os.getenv(\"DB_USER\")\n",
        "DB_PASSWORD = os.getenv(\"DB_PASSWORD\")\n",
        "\n",
        "conn = psycopg2.connect(\n",
        "    host=DB_HOST,\n",
        "    database=DB_NAME,\n",
        "    user=DB_USER,\n",
        "    password=DB_PASSWORD\n",
        ")"
      ]
    },
    {
      "cell_type": "code",
      "execution_count": 482,
      "metadata": {},
      "outputs": [
        {
          "data": {
            "text/html": [
              "<div>\n",
              "<style scoped>\n",
              "    .dataframe tbody tr th:only-of-type {\n",
              "        vertical-align: middle;\n",
              "    }\n",
              "\n",
              "    .dataframe tbody tr th {\n",
              "        vertical-align: top;\n",
              "    }\n",
              "\n",
              "    .dataframe thead th {\n",
              "        text-align: right;\n",
              "    }\n",
              "</style>\n",
              "<table border=\"1\" class=\"dataframe\">\n",
              "  <thead>\n",
              "    <tr style=\"text-align: right;\">\n",
              "      <th></th>\n",
              "      <th>code_agb</th>\n",
              "      <th>code_ciqual</th>\n",
              "      <th>carbon_impact</th>\n",
              "    </tr>\n",
              "  </thead>\n",
              "  <tbody>\n",
              "    <tr>\n",
              "      <th>0</th>\n",
              "      <td>2028</td>\n",
              "      <td>2028</td>\n",
              "      <td>0.786944</td>\n",
              "    </tr>\n",
              "    <tr>\n",
              "      <th>1</th>\n",
              "      <td>13000</td>\n",
              "      <td>13000</td>\n",
              "      <td>0.880638</td>\n",
              "    </tr>\n",
              "    <tr>\n",
              "      <th>2</th>\n",
              "      <td>31016</td>\n",
              "      <td>31016</td>\n",
              "      <td>0.612366</td>\n",
              "    </tr>\n",
              "  </tbody>\n",
              "</table>\n",
              "</div>"
            ],
            "text/plain": [
              "  code_agb  code_ciqual  carbon_impact\n",
              "0     2028         2028       0.786944\n",
              "1    13000        13000       0.880638\n",
              "2    31016        31016       0.612366"
            ]
          },
          "execution_count": 482,
          "metadata": {},
          "output_type": "execute_result"
        }
      ],
      "source": [
        "# Récupération du résultat d'une requête sur la base de données simplifiée AGRIBALYSE\n",
        "# On récupère le code AGRIBALYSE, le code CIQUAL et le facteur d'émission de chaque ingrédient caractérisé par un code AGRIBALYSE\n",
        "cur = conn.cursor()\n",
        "\n",
        "placeholders = ','.join(['%s'] * len(ciqual_food_code_list_int))\n",
        "\n",
        "cur.execute(f\"SELECT code_agb, code_ciqual, carbon_impact FROM carbon_footprint WHERE code_ciqual IN ({placeholders})\", tuple(ciqual_food_code_list_int))\n",
        "\n",
        "results = cur.fetchall()\n",
        "\n",
        "col_names = [desc[0] for desc in cur.description]\n",
        "\n",
        "filtered_agribalyse = pd.DataFrame(results, columns=col_names)\n",
        "\n",
        "cur.close()\n",
        "conn.close()\n",
        "\n",
        "filtered_agribalyse"
      ]
    },
    {
      "cell_type": "code",
      "execution_count": 483,
      "metadata": {},
      "outputs": [
        {
          "name": "stdout",
          "output_type": "stream",
          "text": [
            "\t\t\t***IMPACT CARBONNE***\n",
            "\t'Confiture Abricot INTENSE'\n",
            "\t\t\t***IMPACT CARBONNE***\n",
            "/!\\ NE PREND NI EN COMPTE LE TRANSPORT NI L'EMBALLAGE /!\\\n",
            "\n",
            "Origine: \n",
            "TOTAL: 24.76 gCo2\n",
            "\n",
            "****** DETAILS ******\n",
            "\tconcentrated-lemon-juice: 2.47149 gCo2\n",
            "\tapricot: 18.43836 gCo2\n",
            "\tsugar: 3.84642 gCo2\n",
            "\n",
            "\n",
            "****** INGREDIENTS EN PROPORTIONS NEGLIGEABLES ******\n"
          ]
        }
      ],
      "source": [
        "# Calcul de l'empreinte carbone du produit\n",
        "# /!\\ Uniquement sur la base des ingrédients dont on connaît le code CIQUAL /!\\\n",
        "# /!\\ On ne tient pas compte du transport ni du packaging /!\\\n",
        "total_co2 = 0\n",
        "detail = []\n",
        "\n",
        "for code_agb in filtered_agribalyse['code_agb'].values:\n",
        "    ciqual_code = filtered_agribalyse.loc[filtered_agribalyse['code_agb'] == code_agb, 'code_ciqual'].values[0]\n",
        "    carbon_footprint = filtered_agribalyse.loc[filtered_agribalyse['code_agb'] == code_agb, 'carbon_impact'].values[0]\n",
        "    mass = 0\n",
        "\n",
        "    for ingredient, code, percent in ingredient_list:\n",
        "        if code != '-':\n",
        "            if int(code) == ciqual_code:\n",
        "                mass = (percent/100)*product_metric\n",
        "\n",
        "                if product_quantity_unit == 'g':\n",
        "                    carbon_footprint_ingredient = carbon_footprint*mass/1000\n",
        "                    total_co2 += carbon_footprint_ingredient\n",
        "\n",
        "                elif product_quantity_unit == 'kg':\n",
        "                    carbon_footprint_ingredient = carbon_footprint*mass\n",
        "                    total_co2 += carbon_footprint_ingredient\n",
        "\n",
        "                if percent != 0:\n",
        "                    detail.append([ingredient, carbon_footprint_ingredient])\n",
        "\n",
        "                \n",
        "    \n",
        "print(f\"\\t\\t\\t***IMPACT CARBONNE***\\n\\t'{product_info['product_name']}'\\n\\t\\t\\t***IMPACT CARBONNE***\")\n",
        "print(f\"\\nOrigine: {product_info['origins']}\")\n",
        "print(f\"TOTAL: {round(total_co2*100, 2)} gCo2\\n\")\n",
        "\n",
        "print(\"****** DETAILS ******\")\n",
        "for ingredient, carbon_footprint in detail:\n",
        "    print(f\"\\t{ingredient}: {round(carbon_footprint*100, 5)} gCo2\")\n",
        "\n",
        "neglected_ingredients = []\n",
        "for ingredient, _, percent in ingredient_list:\n",
        "    if percent == 0:\n",
        "        neglected_ingredients.append(ingredient)\n",
        "\n",
        "if len(neglected_ingredients) > 0:\n",
        "    print(\"\\n\\n****** INGREDIENTS EN PROPORTIONS NEGLIGEABLES ******\")\n",
        "    for ingr in neglected_ingredients:\n",
        "        print(f\"\\t{ingr}\")"
      ]
    },
    {
      "cell_type": "markdown",
      "metadata": {},
      "source": [
        "<div class=\"alert alert-success\" align='center'>\n",
        "\n",
        "L'utilisateur reçoit ainsi les données sur **l'origine** du produit (quand elle est fournie) et l'impact environnemental de la **production** des ingrédients (en kg de Co2 équivalent).\n",
        "\n",
        "</div>"
      ]
    },
    {
      "cell_type": "markdown",
      "metadata": {},
      "source": [
        "<div class=\"alert alert-warning\" align='center'>\n",
        "\n",
        "II. Base de données transporteur   \n",
        "\n",
        "\n",
        "Il faudrait maintenant refaire le travail fait avec la base de données Agribalyse sur une base de données fournie par un transpoteur pour calculer l'impact carbonne du transport.\n",
        "</div>"
      ]
    }
  ],
  "metadata": {
    "colab": {
      "provenance": []
    },
    "kernelspec": {
      "display_name": "Python 3",
      "language": "python",
      "name": "python3"
    },
    "language_info": {
      "codemirror_mode": {
        "name": "ipython",
        "version": 3
      },
      "file_extension": ".py",
      "mimetype": "text/x-python",
      "name": "python",
      "nbconvert_exporter": "python",
      "pygments_lexer": "ipython3",
      "version": "3.8.1"
    }
  },
  "nbformat": 4,
  "nbformat_minor": 0
}
